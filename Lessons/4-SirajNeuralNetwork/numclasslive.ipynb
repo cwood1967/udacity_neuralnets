{
 "cells": [
  {
   "cell_type": "code",
   "execution_count": 10,
   "metadata": {
    "collapsed": false
   },
   "outputs": [],
   "source": [
    "#import the needed libraries\n",
    "\n",
    "import pandas\n",
    "import tensorflow as tf\n",
    "import numpy\n",
    "from matplotlib import pyplot as plt\n"
   ]
  },
  {
   "cell_type": "code",
   "execution_count": null,
   "metadata": {
    "collapsed": false,
    "scrolled": false
   },
   "outputs": [],
   "source": []
  },
  {
   "cell_type": "code",
   "execution_count": 11,
   "metadata": {
    "collapsed": true
   },
   "outputs": [],
   "source": [
    "%matplotlib inline"
   ]
  },
  {
   "cell_type": "markdown",
   "metadata": {},
   "source": [
    "data.csv - housing price dataset\n",
    "\n",
    "index, area (size of house), number of bathrooms, price per sq foot\n",
    "\n",
    "look at pytorch"
   ]
  },
  {
   "cell_type": "code",
   "execution_count": 14,
   "metadata": {
    "collapsed": false
   },
   "outputs": [
    {
     "data": {
      "text/html": [
       "<div>\n",
       "<table border=\"1\" class=\"dataframe\">\n",
       "  <thead>\n",
       "    <tr style=\"text-align: right;\">\n",
       "      <th></th>\n",
       "      <th>area</th>\n",
       "      <th>bathrooms</th>\n",
       "    </tr>\n",
       "  </thead>\n",
       "  <tbody>\n",
       "    <tr>\n",
       "      <th>0</th>\n",
       "      <td>2104.0</td>\n",
       "      <td>3.0</td>\n",
       "    </tr>\n",
       "    <tr>\n",
       "      <th>1</th>\n",
       "      <td>1600.0</td>\n",
       "      <td>3.0</td>\n",
       "    </tr>\n",
       "    <tr>\n",
       "      <th>2</th>\n",
       "      <td>2400.0</td>\n",
       "      <td>3.0</td>\n",
       "    </tr>\n",
       "    <tr>\n",
       "      <th>3</th>\n",
       "      <td>1416.0</td>\n",
       "      <td>2.0</td>\n",
       "    </tr>\n",
       "    <tr>\n",
       "      <th>4</th>\n",
       "      <td>3000.0</td>\n",
       "      <td>4.0</td>\n",
       "    </tr>\n",
       "    <tr>\n",
       "      <th>5</th>\n",
       "      <td>1985.0</td>\n",
       "      <td>4.0</td>\n",
       "    </tr>\n",
       "    <tr>\n",
       "      <th>6</th>\n",
       "      <td>1534.0</td>\n",
       "      <td>3.0</td>\n",
       "    </tr>\n",
       "    <tr>\n",
       "      <th>7</th>\n",
       "      <td>1427.0</td>\n",
       "      <td>3.0</td>\n",
       "    </tr>\n",
       "    <tr>\n",
       "      <th>8</th>\n",
       "      <td>1380.0</td>\n",
       "      <td>3.0</td>\n",
       "    </tr>\n",
       "    <tr>\n",
       "      <th>9</th>\n",
       "      <td>1494.0</td>\n",
       "      <td>3.0</td>\n",
       "    </tr>\n",
       "  </tbody>\n",
       "</table>\n",
       "</div>"
      ],
      "text/plain": [
       "     area  bathrooms\n",
       "0  2104.0        3.0\n",
       "1  1600.0        3.0\n",
       "2  2400.0        3.0\n",
       "3  1416.0        2.0\n",
       "4  3000.0        4.0\n",
       "5  1985.0        4.0\n",
       "6  1534.0        3.0\n",
       "7  1427.0        3.0\n",
       "8  1380.0        3.0\n",
       "9  1494.0        3.0"
      ]
     },
     "execution_count": 14,
     "metadata": {},
     "output_type": "execute_result"
    }
   ],
   "source": [
    "# Load the data\n",
    "dataframe = pandas.read_csv('data.csv')\n",
    "\n",
    "#Drop columns with unneeded features\n",
    "dataframe = dataframe.drop(['index', 'price', 'sq_price'], axis=1)\n",
    "# only use the first ten rows\n",
    "dataframe = dataframe[0:10]\n",
    "dataframe\n",
    "\n"
   ]
  },
  {
   "cell_type": "code",
   "execution_count": 20,
   "metadata": {
    "collapsed": false
   },
   "outputs": [
    {
     "data": {
      "text/html": [
       "<div>\n",
       "<table border=\"1\" class=\"dataframe\">\n",
       "  <thead>\n",
       "    <tr style=\"text-align: right;\">\n",
       "      <th></th>\n",
       "      <th>area</th>\n",
       "      <th>bathrooms</th>\n",
       "      <th>y1</th>\n",
       "      <th>y2</th>\n",
       "    </tr>\n",
       "  </thead>\n",
       "  <tbody>\n",
       "    <tr>\n",
       "      <th>0</th>\n",
       "      <td>2104.0</td>\n",
       "      <td>3.0</td>\n",
       "      <td>1</td>\n",
       "      <td>0</td>\n",
       "    </tr>\n",
       "    <tr>\n",
       "      <th>1</th>\n",
       "      <td>1600.0</td>\n",
       "      <td>3.0</td>\n",
       "      <td>1</td>\n",
       "      <td>0</td>\n",
       "    </tr>\n",
       "    <tr>\n",
       "      <th>2</th>\n",
       "      <td>2400.0</td>\n",
       "      <td>3.0</td>\n",
       "      <td>1</td>\n",
       "      <td>0</td>\n",
       "    </tr>\n",
       "    <tr>\n",
       "      <th>3</th>\n",
       "      <td>1416.0</td>\n",
       "      <td>2.0</td>\n",
       "      <td>0</td>\n",
       "      <td>1</td>\n",
       "    </tr>\n",
       "    <tr>\n",
       "      <th>4</th>\n",
       "      <td>3000.0</td>\n",
       "      <td>4.0</td>\n",
       "      <td>0</td>\n",
       "      <td>1</td>\n",
       "    </tr>\n",
       "    <tr>\n",
       "      <th>5</th>\n",
       "      <td>1985.0</td>\n",
       "      <td>4.0</td>\n",
       "      <td>1</td>\n",
       "      <td>0</td>\n",
       "    </tr>\n",
       "    <tr>\n",
       "      <th>6</th>\n",
       "      <td>1534.0</td>\n",
       "      <td>3.0</td>\n",
       "      <td>0</td>\n",
       "      <td>1</td>\n",
       "    </tr>\n",
       "    <tr>\n",
       "      <th>7</th>\n",
       "      <td>1427.0</td>\n",
       "      <td>3.0</td>\n",
       "      <td>1</td>\n",
       "      <td>0</td>\n",
       "    </tr>\n",
       "    <tr>\n",
       "      <th>8</th>\n",
       "      <td>1380.0</td>\n",
       "      <td>3.0</td>\n",
       "      <td>1</td>\n",
       "      <td>0</td>\n",
       "    </tr>\n",
       "    <tr>\n",
       "      <th>9</th>\n",
       "      <td>1494.0</td>\n",
       "      <td>3.0</td>\n",
       "      <td>1</td>\n",
       "      <td>0</td>\n",
       "    </tr>\n",
       "  </tbody>\n",
       "</table>\n",
       "</div>"
      ],
      "text/plain": [
       "     area  bathrooms  y1  y2\n",
       "0  2104.0        3.0   1   0\n",
       "1  1600.0        3.0   1   0\n",
       "2  2400.0        3.0   1   0\n",
       "3  1416.0        2.0   0   1\n",
       "4  3000.0        4.0   0   1\n",
       "5  1985.0        4.0   1   0\n",
       "6  1534.0        3.0   0   1\n",
       "7  1427.0        3.0   1   0\n",
       "8  1380.0        3.0   1   0\n",
       "9  1494.0        3.0   1   0"
      ]
     },
     "execution_count": 20,
     "metadata": {},
     "output_type": "execute_result"
    }
   ],
   "source": [
    "# turn this into a classification problem by adding labels\n",
    "# good buy 1, bad 0\n",
    "dataframe.loc[:, ('y1')] =[1, 1, 1, 0, 0, 1, 0, 1, 1, 1]\n",
    "dataframe.loc[:, ('y2')] = dataframe['y1'] == 0\n",
    "dataframe.loc[:, ('y2')] = dataframe['y2'].astype(int)\n",
    "dataframe"
   ]
  },
  {
   "cell_type": "code",
   "execution_count": 24,
   "metadata": {
    "collapsed": false
   },
   "outputs": [
    {
     "data": {
      "text/plain": [
       "array([[1, 0],\n",
       "       [1, 0],\n",
       "       [1, 0],\n",
       "       [0, 1],\n",
       "       [0, 1],\n",
       "       [1, 0],\n",
       "       [0, 1],\n",
       "       [1, 0],\n",
       "       [1, 0],\n",
       "       [1, 0]])"
      ]
     },
     "execution_count": 24,
     "metadata": {},
     "output_type": "execute_result"
    }
   ],
   "source": [
    "#prep data for tensorflow\n",
    "\n",
    "inputX = dataframe.loc[:, ('area', 'bathrooms')].as_matrix()\n",
    "inputY = dataframe.loc[:, ('y1', 'y2')].as_matrix()\n",
    "inputY"
   ]
  },
  {
   "cell_type": "code",
   "execution_count": 25,
   "metadata": {
    "collapsed": false
   },
   "outputs": [
    {
     "data": {
      "text/plain": [
       "20"
      ]
     },
     "execution_count": 25,
     "metadata": {},
     "output_type": "execute_result"
    }
   ],
   "source": [
    "# write out hyper parameters\n",
    "\n",
    "learning_rate = 0.000001\n",
    "training_epochs = 2000\n",
    "display_steps = 50\n",
    "n_samples = inputY.size\n",
    "inputY.size"
   ]
  },
  {
   "cell_type": "code",
   "execution_count": 34,
   "metadata": {
    "collapsed": false
   },
   "outputs": [],
   "source": [
    "# write out computational graph/neural network\n",
    "# for feature input tensors\n",
    "# placeholders are gateways\n",
    "x = tf.placeholder(tf.float32, [None, 2])\n",
    "\n",
    "#weights\n",
    "# 2x2 float matrix, that is updated thorugh training process\n",
    "# Variables hold and update parameters\n",
    "W = tf.Variable(tf.zeros([2,2])) \n",
    "\n",
    "#biases\n",
    "b = tf.Variable(tf.zeros([2]))\n",
    "\n",
    "#multiply weights by inputs\n",
    "#weights are how we govern how data flows in the graph\n",
    "y_values = tf.add(tf.matmul(x, W), b)\n",
    "\n",
    "y = tf.nn.softmax(y_values)\n",
    "\n",
    "y_= tf.placeholder(tf.float32, [None, 2])\n"
   ]
  },
  {
   "cell_type": "code",
   "execution_count": 35,
   "metadata": {
    "collapsed": true
   },
   "outputs": [],
   "source": [
    "# do training\n",
    "\n",
    "#create cost function\n",
    "# reduce_sum computes the sum of elements across dimensions tensor\n",
    "cost = tf.reduce_sum(tf.pow(y_ - y, 2))/(2*n_samples)\n",
    "\n",
    "#Gradient descent\n",
    "optimizer = tf.train.GradientDescentOptimizer(learning_rate).minimize(cost)\n"
   ]
  },
  {
   "cell_type": "code",
   "execution_count": 42,
   "metadata": {
    "collapsed": false
   },
   "outputs": [],
   "source": [
    "#initialize variable and tensorflow session\n",
    "init = tf.global_variables_initializer()\n",
    "sess = tf.Session()\n",
    "sess.run(init)\n"
   ]
  },
  {
   "cell_type": "code",
   "execution_count": 46,
   "metadata": {
    "collapsed": false
   },
   "outputs": [
    {
     "name": "stdout",
     "output_type": "stream",
     "text": [
      "T step 0000 cost= 0.109534547\n",
      "T step 0050 cost= 0.109534480\n",
      "T step 0100 cost= 0.109534428\n",
      "T step 0150 cost= 0.109534346\n",
      "T step 0200 cost= 0.109534279\n",
      "T step 0250 cost= 0.109534219\n",
      "T step 0300 cost= 0.109534144\n",
      "T step 0350 cost= 0.109534070\n",
      "T step 0400 cost= 0.109534003\n",
      "T step 0450 cost= 0.109533928\n",
      "T step 0500 cost= 0.109533884\n",
      "T step 0550 cost= 0.109533809\n",
      "T step 0600 cost= 0.109533742\n",
      "T step 0650 cost= 0.109533668\n",
      "T step 0700 cost= 0.109533593\n",
      "T step 0750 cost= 0.109533526\n",
      "T step 0800 cost= 0.109533451\n",
      "T step 0850 cost= 0.109533392\n",
      "T step 0900 cost= 0.109533325\n",
      "T step 0950 cost= 0.109533265\n",
      "T step 1000 cost= 0.109533191\n",
      "T step 1050 cost= 0.109533116\n",
      "T step 1100 cost= 0.109533049\n",
      "T step 1150 cost= 0.109532975\n",
      "T step 1200 cost= 0.109532915\n",
      "T step 1250 cost= 0.109532833\n",
      "T step 1300 cost= 0.109532788\n",
      "T step 1350 cost= 0.109532699\n",
      "T step 1400 cost= 0.109532639\n",
      "T step 1450 cost= 0.109532572\n",
      "T step 1500 cost= 0.109532498\n",
      "T step 1550 cost= 0.109532438\n",
      "T step 1600 cost= 0.109532356\n",
      "T step 1650 cost= 0.109532312\n",
      "T step 1700 cost= 0.109532237\n",
      "T step 1750 cost= 0.109532163\n",
      "T step 1800 cost= 0.109532095\n",
      "T step 1850 cost= 0.109532021\n",
      "T step 1900 cost= 0.109531954\n",
      "T step 1950 cost= 0.109531894\n",
      "Done\n",
      "T Cost =  0.109532\n",
      "W= [[ 0.00021394 -0.00021395]\n",
      " [ 0.00015306 -0.00015306]]\n",
      "b =  [  3.54989497e-05  -3.54989534e-05]\n"
     ]
    }
   ],
   "source": [
    "#training loop\n",
    "for i in xrange(training_epochs):\n",
    "    sess.run(optimizer, feed_dict={x:inputX, y_:inputY})\n",
    "    if i % display_steps == 0:\n",
    "        cc = sess.run(cost, feed_dict={x: inputX, y_: inputY})\n",
    "        print \"T step\", '%04d' % (i), \"cost=\", \"{:.9f}\".format(cc)\n",
    "print \"Done\"\n",
    "training_cost = sess.run(cost, feed_dict={x: inputX, y_:inputY})\n",
    "print \"T Cost = \", training_cost\n",
    "print \"W=\", sess.run(W)\n",
    "print \"b = \", sess.run(b)"
   ]
  },
  {
   "cell_type": "code",
   "execution_count": 48,
   "metadata": {
    "collapsed": false
   },
   "outputs": [
    {
     "data": {
      "text/plain": [
       "array([[ 0.71120942,  0.28879055],\n",
       "       [ 0.66498959,  0.33501044],\n",
       "       [ 0.73651242,  0.26348755],\n",
       "       [ 0.6471585 ,  0.3528415 ],\n",
       "       [ 0.78329271,  0.2167073 ],\n",
       "       [ 0.70070404,  0.29929593],\n",
       "       [ 0.65866917,  0.34133083],\n",
       "       [ 0.64830232,  0.35169768],\n",
       "       [ 0.6437034 ,  0.35629663],\n",
       "       [ 0.65481079,  0.34518918]], dtype=float32)"
      ]
     },
     "execution_count": 48,
     "metadata": {},
     "output_type": "execute_result"
    }
   ],
   "source": [
    "sess.run(y, feed_dict= {x:inputX})"
   ]
  },
  {
   "cell_type": "code",
   "execution_count": null,
   "metadata": {
    "collapsed": true
   },
   "outputs": [],
   "source": []
  }
 ],
 "metadata": {
  "kernelspec": {
   "display_name": "Python 2",
   "language": "python",
   "name": "python2"
  },
  "language_info": {
   "codemirror_mode": {
    "name": "ipython",
    "version": 2
   },
   "file_extension": ".py",
   "mimetype": "text/x-python",
   "name": "python",
   "nbconvert_exporter": "python",
   "pygments_lexer": "ipython2",
   "version": "2.7.12"
  }
 },
 "nbformat": 4,
 "nbformat_minor": 2
}
