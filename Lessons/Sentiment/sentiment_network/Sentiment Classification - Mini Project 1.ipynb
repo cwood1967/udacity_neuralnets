{
 "cells": [
  {
   "cell_type": "markdown",
   "metadata": {
    "deletable": true,
    "editable": true
   },
   "source": [
    "# Sentiment Classification & How To \"Frame Problems\" for a Neural Network\n",
    "\n",
    "by Andrew Trask\n",
    "\n",
    "- **Twitter**: @iamtrask\n",
    "- **Blog**: http://iamtrask.github.io"
   ]
  },
  {
   "cell_type": "markdown",
   "metadata": {
    "deletable": true,
    "editable": true
   },
   "source": [
    "### What You Should Already Know\n",
    "\n",
    "- neural networks, forward and back-propagation\n",
    "- stochastic gradient descent\n",
    "- mean squared error\n",
    "- and train/test splits\n",
    "\n",
    "### Where to Get Help if You Need it\n",
    "- Re-watch previous Udacity Lectures\n",
    "- Leverage the recommended Course Reading Material - [Grokking Deep Learning](https://www.manning.com/books/grokking-deep-learning) (40% Off: **traskud17**)\n",
    "- Shoot me a tweet @iamtrask\n",
    "\n",
    "\n",
    "### Tutorial Outline:\n",
    "\n",
    "- Intro: The Importance of \"Framing a Problem\"\n",
    "\n",
    "\n",
    "- Curate a Dataset\n",
    "- Developing a \"Predictive Theory\"\n",
    "- **PROJECT 1**: Quick Theory Validation\n",
    "\n",
    "\n",
    "- Transforming Text to Numbers\n",
    "- **PROJECT 2**: Creating the Input/Output Data\n",
    "\n",
    "\n",
    "- Putting it all together in a Neural Network\n",
    "- **PROJECT 3**: Building our Neural Network\n",
    "\n",
    "\n",
    "- Understanding Neural Noise\n",
    "- **PROJECT 4**: Making Learning Faster by Reducing Noise\n",
    "\n",
    "\n",
    "- Analyzing Inefficiencies in our Network\n",
    "- **PROJECT 5**: Making our Network Train and Run Faster\n",
    "\n",
    "\n",
    "- Further Noise Reduction\n",
    "- **PROJECT 6**: Reducing Noise by Strategically Reducing the Vocabulary\n",
    "\n",
    "\n",
    "- Analysis: What's going on in the weights?"
   ]
  },
  {
   "cell_type": "markdown",
   "metadata": {
    "deletable": true,
    "editable": true,
    "nbpresent": {
     "id": "56bb3cba-260c-4ebe-9ed6-b995b4c72aa3"
    }
   },
   "source": [
    "# Lesson: Curate a Dataset"
   ]
  },
  {
   "cell_type": "code",
   "execution_count": 3,
   "metadata": {
    "collapsed": false,
    "deletable": true,
    "editable": true,
    "nbpresent": {
     "id": "eba2b193-0419-431e-8db9-60f34dd3fe83"
    }
   },
   "outputs": [],
   "source": [
    "def pretty_print_review_and_label(i):\n",
    "    print(labels[i] + \"\\t:\\t\" + reviews[i][:80] + \"...\")\n",
    "\n",
    "g = open('reviews.txt','r') # What we know!\n",
    "reviews = list(map(lambda x:x[:-1],g.readlines()))\n",
    "g.close()\n",
    "\n",
    "g = open('labels.txt','r') # What we WANT to know!\n",
    "labels = list(map(lambda x:x[:-1].upper(),g.readlines()))\n",
    "g.close()"
   ]
  },
  {
   "cell_type": "code",
   "execution_count": 4,
   "metadata": {
    "collapsed": false,
    "deletable": true,
    "editable": true
   },
   "outputs": [
    {
     "data": {
      "text/plain": [
       "25000"
      ]
     },
     "execution_count": 4,
     "metadata": {},
     "output_type": "execute_result"
    }
   ],
   "source": [
    "len(reviews)"
   ]
  },
  {
   "cell_type": "code",
   "execution_count": 9,
   "metadata": {
    "collapsed": false,
    "deletable": true,
    "editable": true,
    "nbpresent": {
     "id": "bb95574b-21a0-4213-ae50-34363cf4f87f"
    }
   },
   "outputs": [
    {
     "data": {
      "text/plain": [
       "'bromwell high is a cartoon comedy . it ran at the same time as some other programs about school life  such as  teachers  . my   years in the teaching profession lead me to believe that bromwell high  s satire is much closer to reality than is  teachers  . the scramble to survive financially  the insightful students who can see right through their pathetic teachers  pomp  the pettiness of the whole situation  all remind me of the schools i knew and their students . when i saw the episode in which a student repeatedly tried to burn down the school  i immediately recalled . . . . . . . . . at . . . . . . . . . . high . a classic line inspector i  m here to sack one of your teachers . student welcome to bromwell high . i expect that many adults of my age think that bromwell high is far fetched . what a pity that it isn  t   '"
      ]
     },
     "execution_count": 9,
     "metadata": {},
     "output_type": "execute_result"
    }
   ],
   "source": [
    "reviews[0]"
   ]
  },
  {
   "cell_type": "code",
   "execution_count": 10,
   "metadata": {
    "collapsed": false,
    "deletable": true,
    "editable": true,
    "nbpresent": {
     "id": "e0408810-c424-4ed4-afb9-1735e9ddbd0a"
    }
   },
   "outputs": [
    {
     "data": {
      "text/plain": [
       "'POSITIVE'"
      ]
     },
     "execution_count": 10,
     "metadata": {},
     "output_type": "execute_result"
    }
   ],
   "source": [
    "labels[0]"
   ]
  },
  {
   "cell_type": "markdown",
   "metadata": {
    "deletable": true,
    "editable": true
   },
   "source": [
    "# Lesson: Develop a Predictive Theory"
   ]
  },
  {
   "cell_type": "code",
   "execution_count": 12,
   "metadata": {
    "collapsed": false,
    "deletable": true,
    "editable": true,
    "nbpresent": {
     "id": "e67a709f-234f-4493-bae6-4fb192141ee0"
    }
   },
   "outputs": [
    {
     "name": "stdout",
     "output_type": "stream",
     "text": [
      "labels.txt \t : \t reviews.txt\n",
      "\n",
      "NEGATIVE\t:\tthis movie is terrible but it has some good effects .  ...\n",
      "POSITIVE\t:\tadrian pasdar is excellent is this film . he makes a fascinating woman .  ...\n",
      "NEGATIVE\t:\tcomment this movie is impossible . is terrible  very improbable  bad interpretat...\n",
      "POSITIVE\t:\texcellent episode movie ala pulp fiction .  days   suicides . it doesnt get more...\n",
      "NEGATIVE\t:\tif you haven  t seen this  it  s terrible . it is pure trash . i saw this about ...\n",
      "POSITIVE\t:\tthis schiffer guy is a real genius  the movie is of excellent quality and both e...\n"
     ]
    }
   ],
   "source": [
    "print(\"labels.txt \\t : \\t reviews.txt\\n\")\n",
    "pretty_print_review_and_label(2137)\n",
    "pretty_print_review_and_label(12816)\n",
    "pretty_print_review_and_label(6267)\n",
    "pretty_print_review_and_label(21934)\n",
    "pretty_print_review_and_label(5297)\n",
    "pretty_print_review_and_label(4998)"
   ]
  },
  {
   "cell_type": "markdown",
   "metadata": {},
   "source": [
    "# Project 1: Quick Theory Validation #"
   ]
  },
  {
   "cell_type": "code",
   "execution_count": 88,
   "metadata": {
    "collapsed": false
   },
   "outputs": [
    {
     "name": "stdout",
     "output_type": "stream",
     "text": [
      "NEGATIVE\t:\tsomething very strange happens when you talk about global warming science goes o...\n",
      "NEGATIVE\t:\ti  m   years old and i  ve spent as much of my life as i can remember  a fan of ...\n",
      "POSITIVE\t:\ti only watched this because it starred josie lawrence  who i knew  br    br   fr...\n",
      "NEGATIVE\t:\twoosh  man what can i say . . .   br    br   the opening  scene  maybe  we see a...\n",
      "NEGATIVE\t:\tthis movie is one of the most awful i  ve ever seen . not only is the dialogue a...\n",
      "POSITIVE\t:\tthis was an adorable movie . a real feel  good movie when you need one . the sto...\n",
      "NEGATIVE\t:\twell done al gore  you have become the first person to have made  billion dollar...\n",
      "NEGATIVE\t:\tthis show was absolutely terrible . for one george isn  t funny  and his kids ar...\n",
      "POSITIVE\t:\tvery good drama about a young girl who attempts to unravel a series of horrible ...\n",
      "NEGATIVE\t:\tthis film was so amateurish i could hardly believe what i was seeing . it is sho...\n",
      "NEGATIVE\t:\tthis was an atrocious waste of my time . no plot . the acting was so far below p...\n",
      "NEGATIVE\t:\tfirst  ifc runs town and country  and now this . the difference between that sti...\n",
      "POSITIVE\t:\tone of the best  amitabh comeback  movies i liked . this was the phase when govi...\n",
      "POSITIVE\t:\tthe symbolic use of objects  form editing  the position of characters in the sce...\n",
      "NEGATIVE\t:\tthis film is probably pro  muslimization .  br    br   why do i write that  the ...\n",
      "POSITIVE\t:\tfirst i was caught totally off guard by the film  s initial lyricism and then i ...\n",
      "NEGATIVE\t:\tthere is a remark that one of heroines was raped on  drunken rampage  by russian...\n",
      "POSITIVE\t:\tralph and mumford  misfits in their own land  get duped into being unwitting paw...\n",
      "NEGATIVE\t:\tbelow average movie with poor music considering a movie based on music    ordina...\n",
      "POSITIVE\t:\tunfortunately many consumers who write reviews for imdb equate low budget with n...\n"
     ]
    }
   ],
   "source": [
    "n = len(reviews)\n",
    "import numpy as np\n",
    "\n",
    "ni = np.random.randint(0,n, size=20)\n",
    "for i in ni:\n",
    "    pretty_print_review_and_label(i)\n",
    "\n",
    "# pretty_print_review_and_label(0)"
   ]
  },
  {
   "cell_type": "code",
   "execution_count": 87,
   "metadata": {
    "collapsed": false
   },
   "outputs": [
    {
     "name": "stdout",
     "output_type": "stream",
     "text": [
      "1 13985 7865\n",
      "2 9685 7450\n",
      "3 8635 3078 12500\n",
      "4 8795 5433 12500\n",
      "5 6144\n"
     ]
    }
   ],
   "source": [
    "\n",
    "bad = ('boring','lousy', 'wasted','suck','poor', 'terrible', 'bad', 'preposterous', 'worst', 'hated', 'awful', 'horrid', 'stupid', 'unoriginal', 'disappointing')\n",
    "good = ('admire','wonderful', 'excellent', 'great', 'best', 'enjoyed', 'loved', 'impressed', 'original','fantastic')\n",
    "ngood = 0\n",
    "nbad = 0\n",
    "tbad = 0\n",
    "tgood = 0\n",
    "tboth = 0\n",
    "fbad = 0\n",
    "fgood = 0\n",
    "mygood = 0\n",
    "mybad = 0\n",
    "mylabels = []\n",
    "for i,r in enumerate(reviews):\n",
    "#     print(r[0:80])\n",
    "#     print(\"XX\" +labels[i] + \"YY\")\n",
    "#     print(r.split())\n",
    "#     rs = r.split()\n",
    "    gg = len([i for i in good if i in r])\n",
    "    gb = len([i for i in bad if i in r])\n",
    "    if (gg > gb):\n",
    "        mygood += 1\n",
    "        mylabels.append('POSITIVE')\n",
    "    else:\n",
    "        if (gb > gg):\n",
    "            mybad += 1\n",
    "            mylabels.append('NEGATIVE')\n",
    "    if (gg == gb):\n",
    "        mylabels.append('NONE')\n",
    "        \n",
    "    if (gg and gb):\n",
    "        tboth += 1\n",
    "    if gg and (labels[i] == 'POSITIVE'):\n",
    "        ngood += 1\n",
    "    if gb and (labels[i] == 'NEGATIVE'):\n",
    "        nbad += 1\n",
    "    if gg and (labels[i] == 'NEGATIVE'):\n",
    "        fgood += 1\n",
    "    if gb and (labels[i] == 'POSITIVE'):\n",
    "        fbad += 1\n",
    "    if (labels[i] == 'POSITIVE'):\n",
    "        tgood += 1\n",
    "    else:\n",
    "        tbad += 1\n",
    "        \n",
    "matches = 0\n",
    "nnone = 0\n",
    "for i in range(len(mylabels)):\n",
    "    if mylabels[i] == 'NONE':\n",
    "        nnone += 1\n",
    "        continue\n",
    "    if mylabels[i] == labels[i]:\n",
    "        matches += 1\n",
    "\n",
    "print('1', matches, nnone)\n",
    "print('2', mygood, mybad)\n",
    "print('3', nbad, fbad, tbad)\n",
    "print('4', ngood, fgood, tgood)\n",
    "print('5',tboth)"
   ]
  },
  {
   "cell_type": "code",
   "execution_count": 36,
   "metadata": {
    "collapsed": false
   },
   "outputs": [
    {
     "data": {
      "text/plain": [
       "False"
      ]
     },
     "execution_count": 36,
     "metadata": {},
     "output_type": "execute_result"
    }
   ],
   "source": [
    "good in reviews[0].split(\" \")"
   ]
  },
  {
   "cell_type": "code",
   "execution_count": 65,
   "metadata": {
    "collapsed": false
   },
   "outputs": [
    {
     "data": {
      "text/plain": [
       "['great', 'best', 'original']"
      ]
     },
     "execution_count": 65,
     "metadata": {},
     "output_type": "execute_result"
    }
   ],
   "source": [
    "[i for i in good if i in reviews[3]]"
   ]
  },
  {
   "cell_type": "code",
   "execution_count": 50,
   "metadata": {
    "collapsed": false
   },
   "outputs": [
    {
     "name": "stdout",
     "output_type": "stream",
     "text": [
      "True\n"
     ]
    }
   ],
   "source": [
    "print(any(x in reviews[4] for x in good))"
   ]
  },
  {
   "cell_type": "code",
   "execution_count": 54,
   "metadata": {
    "collapsed": false
   },
   "outputs": [
    {
     "data": {
      "text/plain": [
       "True"
      ]
     },
     "execution_count": 54,
     "metadata": {},
     "output_type": "execute_result"
    }
   ],
   "source": [
    "labels[0] == 'POSITIVE'"
   ]
  },
  {
   "cell_type": "code",
   "execution_count": 90,
   "metadata": {
    "collapsed": false
   },
   "outputs": [],
   "source": [
    "from collections import Counter\n"
   ]
  },
  {
   "cell_type": "code",
   "execution_count": 92,
   "metadata": {
    "collapsed": true
   },
   "outputs": [],
   "source": [
    "positive_counts = Counter()\n",
    "negative_counts = Counter()\n",
    "total_counts = Counter()\n"
   ]
  },
  {
   "cell_type": "code",
   "execution_count": 93,
   "metadata": {
    "collapsed": true
   },
   "outputs": [],
   "source": [
    "for i in range(len(reviews)):\n",
    "    if (labels[i] == 'POSITIVE'):\n",
    "        for word in reviews[i].split(\" \"):\n",
    "            positive_counts[word] += 1\n",
    "            total_counts[word] += 1\n",
    "    else:\n",
    "        for word in reviews[i].split(' '):\n",
    "            negative_counts[word] += 1\n",
    "            total_counts[word] += 1\n",
    "\n"
   ]
  },
  {
   "cell_type": "code",
   "execution_count": 115,
   "metadata": {
    "collapsed": false
   },
   "outputs": [],
   "source": [
    "pos_neg_ratios = Counter()\n",
    "\n",
    "for term, cnt in list(total_counts.most_common()):\n",
    "    if (cnt > 200):\n",
    "        pos_neg_ratio = positive_counts[term]/float(negative_counts[term] + 1)\n",
    "        pos_neg_ratios[term] = pos_neg_ratio\n",
    "        \n",
    "for word, ratio in pos_neg_ratios.most_common():\n",
    "    if (ratio > 1):\n",
    "        pos_neg_ratios[word] = np.log(ratio)\n",
    "    else:\n",
    "        pos_neg_ratios[word] = -np.log((1/(ratio + 0.01)))\n"
   ]
  },
  {
   "cell_type": "code",
   "execution_count": 175,
   "metadata": {
    "collapsed": false
   },
   "outputs": [
    {
     "data": {
      "text/plain": [
       "[('spent', -0.65155245096848746),\n",
       " ('low', -0.64892927799573152),\n",
       " ('hour', -0.64745553340521167),\n",
       " ('saved', -0.64691036448575012),\n",
       " ('reason', -0.64625116218498069),\n",
       " ('makeup', -0.64491739746429821),\n",
       " ('lack', -0.64431614250687563),\n",
       " ('makers', -0.6435343096390499),\n",
       " ('empty', -0.64153525562181912),\n",
       " ('holes', -0.63738670049736545)]"
      ]
     },
     "execution_count": 175,
     "metadata": {},
     "output_type": "execute_result"
    }
   ],
   "source": [
    "## most common in negative\n",
    "neg_most = list(reversed(pos_neg_ratios.most_common()))[0:400]\n",
    "neg_most[-10:]"
   ]
  },
  {
   "cell_type": "code",
   "execution_count": 180,
   "metadata": {
    "collapsed": false
   },
   "outputs": [
    {
     "data": {
      "text/plain": [
       "[('roles', 0.49839716550752178),\n",
       " ('james', 0.49837216269470402),\n",
       " ('brought', 0.49783842823917956),\n",
       " ('hilarious', 0.49714551986191058),\n",
       " ('brutal', 0.49681488669639234),\n",
       " ('appropriate', 0.49643688631389105),\n",
       " ('dance', 0.49581998314812048),\n",
       " ('thoroughly', 0.49414593456733524),\n",
       " ('depicted', 0.49317068852726992),\n",
       " ('combination', 0.49247648509779424)]"
      ]
     },
     "execution_count": 180,
     "metadata": {},
     "output_type": "execute_result"
    }
   ],
   "source": [
    "#most common in positive\n",
    "pos_most =pos_neg_ratios.most_common()[0:400]\n",
    "pos_most[-10:]"
   ]
  },
  {
   "cell_type": "markdown",
   "metadata": {},
   "source": [
    "## Start mini project 2 ##\n",
    "\n",
    "Make two functions:\n",
    "    1. Take a review, count the number of times each word occurs and put it into a vector"
   ]
  },
  {
   "cell_type": "code",
   "execution_count": 189,
   "metadata": {
    "collapsed": false
   },
   "outputs": [
    {
     "name": "stdout",
     "output_type": "stream",
     "text": [
      "1 POSITIVE [('young', 2), ('received', 1)]\n",
      "0 NEGATIVE [('explanation', 2), ('bad', 1)]\n",
      "1 POSITIVE [('series', 2), ('worse', 1)]\n",
      "0 NEGATIVE [('best', 2), ('beautiful', 2)]\n",
      "1 POSITIVE [('great', 2), ('best', 1)]\n"
     ]
    }
   ],
   "source": [
    "\n",
    "\n",
    "def wordvect(review, vocab_counter):\n",
    "    words = review.split()\n",
    "    for word in words:\n",
    "        if word in vocab_counter.keys():\n",
    "            vocab_counter[word] += 1\n",
    "    \n",
    "\n",
    "def review_label_to_bin(label):\n",
    "    if label == 'POSITIVE':\n",
    "        res = 1\n",
    "    else:\n",
    "        res = 0\n",
    "        \n",
    "    return res\n",
    "\n",
    "\n",
    "posneg = pos_most + neg_most\n",
    "vocabulary = sorted([t[0] for t in posneg])\n",
    "vocab_counter = Counter()\n",
    "\n",
    "for i in np.random.randint(0, len(reviews), 5):\n",
    "    for w in vocabulary:\n",
    "        vocab_counter[w] = 0\n",
    "    wordvect(reviews[i], vocab_counter)\n",
    "    print(review_label_to_bin(labels[i]), labels[i],  vocab_counter.most_common()[0:2])\n",
    "    "
   ]
  },
  {
   "cell_type": "code",
   "execution_count": null,
   "metadata": {
    "collapsed": false
   },
   "outputs": [],
   "source": []
  },
  {
   "cell_type": "code",
   "execution_count": null,
   "metadata": {
    "collapsed": false
   },
   "outputs": [],
   "source": []
  },
  {
   "cell_type": "code",
   "execution_count": null,
   "metadata": {
    "collapsed": true
   },
   "outputs": [],
   "source": []
  }
 ],
 "metadata": {
  "anaconda-cloud": {},
  "kernelspec": {
   "display_name": "Python 3",
   "language": "python",
   "name": "python3"
  },
  "language_info": {
   "codemirror_mode": {
    "name": "ipython",
    "version": 3
   },
   "file_extension": ".py",
   "mimetype": "text/x-python",
   "name": "python",
   "nbconvert_exporter": "python",
   "pygments_lexer": "ipython3",
   "version": "3.5.2"
  }
 },
 "nbformat": 4,
 "nbformat_minor": 1
}
